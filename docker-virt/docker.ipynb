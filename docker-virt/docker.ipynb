{
 "cells": [
  {
   "cell_type": "markdown",
   "metadata": {},
   "source": [
    "### Docker\n",
    "\n",
    "Algunos comandos para manejo de docker\n",
    "\n",
    "Renombrar imagen\n",
    "* docker tag IMAGEN NUEVO_NOMBRE_DE_IMAGEN\n",
    "\n",
    "Nombrar contenedor\n",
    "* docker run --name NOMBRE_DE_CONTAINER IMAGEN\n",
    "\n",
    "Renombrar contenedor\n",
    "* docker rename CONTENEDOR NUEVO_NOMBRE\n",
    "\n",
    "Eliminar todos los contenedores \n",
    "* docker rm $(docker ps -aq)\n",
    "\n",
    "Eliminar todas las imágenes \n",
    "* docker rmi $(docker images -aq)"
   ]
  },
  {
   "cell_type": "markdown",
   "metadata": {},
   "source": [
    "#### 0.0.0.0:32770 -> 5000/tcp\n",
    "Mapea el puerto 5000 del contenedor con el puerto 32770 de la máquina anfitrión "
   ]
  },
  {
   "cell_type": "markdown",
   "metadata": {},
   "source": [
    "# Buscar en DockerHub \"consol\""
   ]
  },
  {
   "cell_type": "markdown",
   "metadata": {
    "collapsed": true
   },
   "source": []
  }
 ],
 "metadata": {
  "kernelspec": {
   "display_name": "Python 3",
   "language": "python",
   "name": "python3"
  },
  "language_info": {
   "codemirror_mode": {
    "name": "ipython",
    "version": 3
   },
   "file_extension": ".py",
   "mimetype": "text/x-python",
   "name": "python",
   "nbconvert_exporter": "python",
   "pygments_lexer": "ipython3",
   "version": "3.6.1"
  }
 },
 "nbformat": 4,
 "nbformat_minor": 2
}

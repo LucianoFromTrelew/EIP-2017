{
 "cells": [
  {
   "cell_type": "markdown",
   "metadata": {},
   "source": [
    "#### M2M (machine 2 machine) != IOT\n",
    "\n",
    "Comunicación entre máquinas (por ejemplo, un ctrol remoto), no es IOT. IOT permite que un dispositivo genere información y la envíe a la nube para que otros dispositivos consuman dicha información; logra cierto tipo de **sinergia**.\n",
    "\n"
   ]
  },
  {
   "cell_type": "markdown",
   "metadata": {},
   "source": [
    "#### OSI = Open System Interconection\n",
    "\n",
    "Modelo de siete capas \n",
    "\n",
    "TCP/IP tiene cinco capas, se asimila bastante a OSI"
   ]
  },
  {
   "cell_type": "markdown",
   "metadata": {},
   "source": [
    "#### IPv6 -> Valor de 128 bits\n",
    "\n",
    "Muchísimas más direcciones IP posibles que IPv4"
   ]
  },
  {
   "cell_type": "markdown",
   "metadata": {},
   "source": [
    "#### \"Cosa\" -> Dispositivo mecánico con una electrónica que permite que tenga conectividad\n",
    "\n"
   ]
  },
  {
   "cell_type": "markdown",
   "metadata": {},
   "source": [
    "### Sensores -> Entrada\n",
    "### Actuadores -> Salida"
   ]
  },
  {
   "cell_type": "code",
   "execution_count": null,
   "metadata": {
    "collapsed": true
   },
   "outputs": [],
   "source": []
  },
  {
   "cell_type": "markdown",
   "metadata": {},
   "source": [
    "### Comunicación serie\n",
    "\n",
    "Un solo cable que envía (TX), otro que recibe (RX).\n",
    "A cada bit que viaja se le da cierto tiempo para llegar a destino. Los bits llegan *en serie* (uno detrás del otro)\n",
    "\n",
    "\n",
    "### UART\n",
    "\n",
    "\n",
    "Comunicación asincrónica -> Se emplea un start y un stop bit, el emisor y el receptor se sincronizan al comienzo de la transmisión. Para enviar 8 bits, se utilizan 10 (1 bit start, 8 de info, 1 de stop). A partir del bit de start, están los dos **sincronizados** (se pueden sincronizar igualmente porque cada uno tiene un propio reloj)\n",
    "Se termina la comunicación, se termina la sincronización "
   ]
  },
  {
   "cell_type": "markdown",
   "metadata": {},
   "source": [
    "### Comunicación síncrona\n",
    "Maestro (emisor) impone el **reloj** al esclavo (receptor). El receptor se sincroniza con el reloj del emisor. En una línea o un cable viaja la frecuencia del reloj, y en otra la info.\n",
    "\n",
    "Si se llega a perder un bit, todos los otros bits que lleguen después van a ser incorrectos (se desincronizó la comunicación). Se debe poner una sincronización cada una cierta cantidad de bytes enviados.\n",
    "\n"
   ]
  },
  {
   "cell_type": "markdown",
   "metadata": {},
   "source": [
    "### Full Duplex\n",
    "\n",
    "Se pueden enviar y recibir bits simultáneamente. Por ejemplo, si tenemos un cable que sale del pin TX de una Arduino y va al pin RX de otra Arduino, y del pin RX al pin TX (se pueden enviar y recibir bits a la vez)\n",
    "\n",
    "### Half Duplex\n",
    "\n",
    "Se puede enviar y recibir bits, pero en momentos diferentes, no en simultáneo (un solo cable que envía para ambos lados)"
   ]
  },
  {
   "cell_type": "markdown",
   "metadata": {},
   "source": [
    "### Ethernet\n",
    "\n",
    "Comunicación sincrónica de un solo hilo (a diferencia de la USART, por ejemplo, que necesitaba un hilo para los datos y otro para los datos).\n",
    "\n",
    "Convención Manchester -> Logra datos y reloj en un mismo hilo, la sincronización se da en los flancos.\n",
    "Flanco ascendente -> 1\n",
    "Flanco descendente -> 0\n",
    "\n",
    "Los **cables coaxiles** utilizan esta convención"
   ]
  },
  {
   "cell_type": "markdown",
   "metadata": {},
   "source": [
    "### Internet\n",
    "\n",
    "Redes que interaccionan entre sí, redes que se comunican.\n",
    "\n",
    "Tienen \n",
    "* IP \n",
    "* MAC \n",
    "* Router \n",
    "* Gateway\n",
    "\n"
   ]
  },
  {
   "cell_type": "code",
   "execution_count": null,
   "metadata": {
    "collapsed": true
   },
   "outputs": [],
   "source": []
  }
 ],
 "metadata": {
  "kernelspec": {
   "display_name": "Python 3",
   "language": "python",
   "name": "python3"
  },
  "language_info": {
   "codemirror_mode": {
    "name": "ipython",
    "version": 3
   },
   "file_extension": ".py",
   "mimetype": "text/x-python",
   "name": "python",
   "nbconvert_exporter": "python",
   "pygments_lexer": "ipython3",
   "version": "3.6.1"
  }
 },
 "nbformat": 4,
 "nbformat_minor": 2
}

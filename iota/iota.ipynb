{
 "cells": [
  {
   "cell_type": "markdown",
   "metadata": {},
   "source": [
    "#### M2M (machine 2 machine) != IOT\n",
    "\n",
    "Comunicación entre máquinas (por ejemplo, un ctrol remoto), no es IOT. IOT permite que un dispositivo genere información y la envíe a la nube para que otros dispositivos consuman dicha información; logra cierto tipo de **sinergia**.\n",
    "\n"
   ]
  },
  {
   "cell_type": "markdown",
   "metadata": {},
   "source": [
    "#### OSI = Open System Interconection\n",
    "\n",
    "Modelo de siete capas \n",
    "\n",
    "TCP/IP tiene cinco capas, se asimila bastante a OSI"
   ]
  },
  {
   "cell_type": "markdown",
   "metadata": {},
   "source": [
    "#### IPv6 -> Valor de 128 bits\n",
    "\n",
    "Muchísimas más direcciones IP posibles que IPv4"
   ]
  },
  {
   "cell_type": "markdown",
   "metadata": {},
   "source": [
    "#### \"Cosa\" -> Dispositivo mecánico con una electrónica que permite que tenga conectividad\n",
    "\n"
   ]
  },
  {
   "cell_type": "markdown",
   "metadata": {},
   "source": [
    "### Sensores -> Entrada\n",
    "### Actuadores -> Salida"
   ]
  },
  {
   "cell_type": "markdown",
   "metadata": {
    "collapsed": true
   },
   "source": []
  },
  {
   "cell_type": "markdown",
   "metadata": {},
   "source": []
  }
 ],
 "metadata": {
  "kernelspec": {
   "display_name": "Python 3",
   "language": "python",
   "name": "python3"
  },
  "language_info": {
   "codemirror_mode": {
    "name": "ipython",
    "version": 3
   },
   "file_extension": ".py",
   "mimetype": "text/x-python",
   "name": "python",
   "nbconvert_exporter": "python",
   "pygments_lexer": "ipython3",
   "version": "3.6.1"
  }
 },
 "nbformat": 4,
 "nbformat_minor": 2
}
